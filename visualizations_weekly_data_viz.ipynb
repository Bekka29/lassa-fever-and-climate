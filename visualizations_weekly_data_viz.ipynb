{
 "cells": [
  {
   "cell_type": "code",
   "execution_count": 1,
   "metadata": {},
   "outputs": [],
   "source": [
    "import numpy as np\n",
    "from numpy import concatenate\n",
    "import pandas as pd\n",
    "from pandas import read_csv, concat, DataFrame\n",
    "from math import sqrt\n",
    "import matplotlib.pyplot as plt\n",
    "import seaborn as sns\n",
    "from datetime import datetime\n",
    "\n",
    "from ipywidgets import interact_manual, interact\n",
    "# Set the Seaborn context to 'talk' and style to 'whitegrid'\n",
    "sns.set_context('talk')\n",
    "sns.set_style('white')\n"
   ]
  },
  {
   "cell_type": "code",
   "execution_count": 2,
   "metadata": {},
   "outputs": [],
   "source": [
    "# Read Excel file\n",
    "excel_file = 'weeklydata.xlsx'\n",
    "dataset = pd.read_excel(excel_file, engine='openpyxl')"
   ]
  },
  {
   "cell_type": "code",
   "execution_count": 3,
   "metadata": {},
   "outputs": [
    {
     "name": "stdout",
     "output_type": "stream",
     "text": [
      "Excel Data:\n",
      "    state  year   datetime  epiweek  cases  tempmaxw  tempminw  tempw  \\\n",
      "0  Bauchi  2018 2018-01-07        1    1.0      29.5      10.8   19.0   \n",
      "1  Bauchi  2018 2018-01-14        2    0.0      27.6      10.8   19.3   \n",
      "2  Bauchi  2018 2018-01-21        3    0.0      30.5      11.7   21.2   \n",
      "3  Bauchi  2018 2018-01-28        4    0.0      28.5      13.1   20.4   \n",
      "4  Bauchi  2018 2018-02-04        5    0.0      34.6      15.6   24.8   \n",
      "\n",
      "   humidityw  precipw  precipcovw  \n",
      "0       36.1      0.0         0.0  \n",
      "1       28.1      0.0         0.0  \n",
      "2       24.8      0.0         0.0  \n",
      "3       30.9      0.0         0.0  \n",
      "4       23.8      0.0         0.0  \n",
      "\n",
      "Column Headings:\n",
      "Index(['state', 'year', 'datetime', 'epiweek', 'cases', 'tempmaxw', 'tempminw',\n",
      "       'tempw', 'humidityw', 'precipw', 'precipcovw'],\n",
      "      dtype='object')\n"
     ]
    }
   ],
   "source": [
    "# View data and column headings\n",
    "print(\"Excel Data:\")\n",
    "print(dataset.head())\n",
    "print(\"\\nColumn Headings:\")\n",
    "print(dataset.columns)"
   ]
  },
  {
   "cell_type": "code",
   "execution_count": 4,
   "metadata": {},
   "outputs": [
    {
     "data": {
      "application/vnd.jupyter.widget-view+json": {
       "model_id": "f545f03b0027421eade54de742146a54",
       "version_major": 2,
       "version_minor": 0
      },
      "text/plain": [
       "interactive(children=(Dropdown(description='state', options=('Bauchi', 'Edo', 'Ondo'), value='Bauchi'), Dropdo…"
      ]
     },
     "metadata": {},
     "output_type": "display_data"
    }
   ],
   "source": [
    "from ipywidgets import interact_manual\n",
    "@interact(state=[\"Bauchi\", \"Edo\", \"Ondo\"], year = [y for y in range(2018, 2024)])\n",
    "def viz(state, year):    \n",
    "    # Heat Map showing the correlation between all variables including the target\n",
    "    ds_state = dataset[(dataset['state'] == state) & (dataset['year'] == year)].copy()\n",
    "    ds_state.set_index('datetime', inplace=True)\n",
    "    ds_state.drop(['year', 'epiweek','state'], axis=1, inplace=True)    \n",
    "    corr=ds_state.corr(method='spearman')    \n",
    "    fig, ax = plt.subplots(figsize=(8,8))\n",
    "    matrix = np.triu(corr) # Getting the lower traingle of the correlation matrix\n",
    "    cbar_kws={\"label\": \"Correlation\", \"shrink\":1}\n",
    "    heatmap=sns.heatmap(data=corr, linewidths=1, square=False, cmap='Reds', ax=ax, annot=True,annot_kws={\"size\": 10}, mask=matrix, fmt= \".2f\",cbar_kws=cbar_kws)\n",
    "    fig.suptitle('Heatmap of Correlation Between Data Features for {} state'.format(state), fontsize=18, y=.94, x=.43)\n",
    "    plt.tight_layout()\n",
    "    plt.savefig('{}_heatmap.svg'.format(state), bbox_inches='tight')\n",
    "\n"
   ]
  },
  {
   "cell_type": "code",
   "execution_count": 6,
   "metadata": {},
   "outputs": [
    {
     "data": {
      "application/vnd.jupyter.widget-view+json": {
       "model_id": "04b21c8ad58548138e444237245d6044",
       "version_major": 2,
       "version_minor": 0
      },
      "text/plain": [
       "interactive(children=(Dropdown(description='state', options=('Bauchi', 'Edo', 'Ondo'), value='Bauchi'), Output…"
      ]
     },
     "metadata": {},
     "output_type": "display_data"
    }
   ],
   "source": [
    "from ipywidgets import interact_manual\n",
    "@interact(state=[\"Bauchi\", \"Edo\", \"Ondo\"], )\n",
    "def viz(state):\n",
    "    year = [y for y in range(2018, 2024, 1)]\n",
    "    # Heat Map showing the correlation between all variables including the target\n",
    "    yearly_corr = []\n",
    "    for y in year:\n",
    "        y_cases_corr = []\n",
    "        ds_state = dataset[(dataset['state'] == state) & (dataset['year'] == y)].copy()\n",
    "        ds_state.set_index('datetime', inplace=True)\n",
    "        ds_state.drop(['year', 'epiweek','state'], axis=1, inplace=True)    \n",
    "        corr=ds_state.corr(method='spearman')\n",
    "        # y_cases_corr.append(np.abs(corr['cases']['tempmaxw']))\n",
    "        # y_cases_corr.append(np.abs(corr['cases']['tempminw']))\n",
    "        # y_cases_corr.append(np.abs(corr['cases']['tempw']))\n",
    "        # y_cases_corr.append(np.abs(corr['cases']['humidityw']))\n",
    "        # y_cases_corr.append(np.abs(corr['cases']['precipw']))\n",
    "        # y_cases_corr.append(np.abs(corr['cases']['precipcovw']))\n",
    "        y_cases_corr.append(corr['cases']['tempmaxw'])\n",
    "        y_cases_corr.append(corr['cases']['tempminw'])\n",
    "        y_cases_corr.append(corr['cases']['tempw'])\n",
    "        y_cases_corr.append(corr['cases']['humidityw'])\n",
    "        y_cases_corr.append(corr['cases']['precipw'])\n",
    "        y_cases_corr.append(corr['cases']['precipcovw'])\n",
    "\n",
    "        yearly_corr.append(y_cases_corr)\n",
    "    yearly_corr =np.array(yearly_corr)\n",
    "    \n",
    "    fig = plt.figure(figsize=(18, 8))\n",
    "    plt.plot(year, yearly_corr.T[0], label='tempmaxw', color ='red', linestyle ='dotted')\n",
    "    plt.plot(year, yearly_corr.T[1], label='tempminw', color ='green', linestyle ='dashed')\n",
    "    plt.plot(year, yearly_corr.T[2], label='tempw',  color ='blue', linestyle ='dashdot')\n",
    "    plt.plot(year, yearly_corr.T[3], label='humidityw', color ='black', linestyle ='solid')\n",
    "    plt.plot(year, yearly_corr.T[4], label='precipw', color ='orange', linestyle =(0, (3, 10, 1, 10, 1, 10)))\n",
    "    plt.plot(year, yearly_corr.T[5], label='precipcovw', color ='purple', linestyle =(0, (3, 5, 1, 5, 1, 5)))\n",
    "    \n",
    "    plt.ylabel(\"Cases count correlation\")\n",
    "    plt.xticks(np.arange(min(year), max(year)+1, 1.0))\n",
    "    plt.legend(loc='center left', bbox_to_anchor=(1, 0.5))\n",
    "    plt.tight_layout()\n",
    "    plt.title(\"Spearman's cases absolute correlation value plot for {} state\".format(state))\n",
    "    plt.tight_layout()\n",
    "    plt.savefig('{}_correlation.svg'.format(state), bbox_inches='tight')\n",
    "\n",
    "\n",
    "\n"
   ]
  },
  {
   "cell_type": "code",
   "execution_count": null,
   "metadata": {},
   "outputs": [],
   "source": []
  }
 ],
 "metadata": {
  "kernelspec": {
   "display_name": "Python 3 (ipykernel)",
   "language": "python",
   "name": "python3"
  },
  "language_info": {
   "codemirror_mode": {
    "name": "ipython",
    "version": 3
   },
   "file_extension": ".py",
   "mimetype": "text/x-python",
   "name": "python",
   "nbconvert_exporter": "python",
   "pygments_lexer": "ipython3",
   "version": "3.10.13"
  }
 },
 "nbformat": 4,
 "nbformat_minor": 4
}
